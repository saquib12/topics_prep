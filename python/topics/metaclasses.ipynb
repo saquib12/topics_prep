{
 "cells": [
  {
   "cell_type": "markdown",
   "id": "13f63b43-003f-4a45-870c-6c02f1e62ff5",
   "metadata": {},
   "source": [
    "# Dunder Refresher"
   ]
  },
  {
   "cell_type": "code",
   "execution_count": 12,
   "id": "069e9c1c-fb41-4e86-9712-9ca810fd1c7b",
   "metadata": {},
   "outputs": [
    {
     "name": "stdout",
     "output_type": "stream",
     "text": [
      "my connection opened\n",
      "Resource with connection my connection\n"
     ]
    }
   ],
   "source": [
    "class Resource:\n",
    "    def __enter__(self):\n",
    "        self._connection = \"my connection\"\n",
    "        print(f\"{self._connection} opened\")\n",
    "        return self\n",
    "    def __exit__(self,exc_type, exc_val, exc_tb):\n",
    "        self._connection = None\n",
    "        return\n",
    "    def __str__(self):\n",
    "        return f\"Resource with connection {self._connection}\"\n",
    "\n",
    "with Resource() as rs :\n",
    "    print(rs)\n",
    "    pass\n",
    "\n",
    "        "
   ]
  },
  {
   "cell_type": "code",
   "execution_count": 16,
   "id": "44b7536a-de74-42a9-9d9d-6c788b194abb",
   "metadata": {},
   "outputs": [
    {
     "ename": "AttributeError",
     "evalue": "'NoneType' object has no attribute 'abc'",
     "output_type": "error",
     "traceback": [
      "\u001b[0;31m---------------------------------------------------------------------------\u001b[0m",
      "\u001b[0;31mAttributeError\u001b[0m                            Traceback (most recent call last)",
      "Cell \u001b[0;32mIn[16], line 16\u001b[0m\n\u001b[1;32m     13\u001b[0m         \u001b[38;5;28;01mreturn\u001b[39;00m \u001b[38;5;124m'\u001b[39m\u001b[38;5;124mabc\u001b[39m\u001b[38;5;124m'\u001b[39m\n\u001b[1;32m     15\u001b[0m rs \u001b[38;5;241m=\u001b[39m Resource()\n\u001b[0;32m---> 16\u001b[0m \u001b[38;5;28mprint\u001b[39m(\u001b[43mrs\u001b[49m\u001b[38;5;241;43m.\u001b[39;49m\u001b[43mabc\u001b[49m())       \n",
      "\u001b[0;31mAttributeError\u001b[0m: 'NoneType' object has no attribute 'abc'"
     ]
    }
   ],
   "source": [
    "# Try Singleton just through dunders\n",
    "\n",
    "\n",
    "class Resource: \n",
    "    __instance = None\n",
    "\n",
    "    def __new__(cls,*args, **kwargs):\n",
    "        pass\n",
    "            \n",
    "    def __init(self,*args, **kwargs):\n",
    "        pass\n",
    "    def abc(self):\n",
    "        return 'abc'\n",
    "            \n",
    "rs = Resource()\n",
    "print(rs.abc())       "
   ]
  },
  {
   "cell_type": "code",
   "execution_count": 56,
   "id": "60802f8f-a0a7-4531-8c40-39cc6ad17583",
   "metadata": {},
   "outputs": [
    {
     "name": "stdout",
     "output_type": "stream",
     "text": [
      "abc\n"
     ]
    }
   ],
   "source": [
    "# __new__ must call  super new\n",
    "\n",
    "\n",
    "class Resource: \n",
    "    __instance = None\n",
    "\n",
    "    def __new__(cls,*args, **kwargs):\n",
    "        instance = super().__new__(cls,*args, **kwargs)\n",
    "        return instance\n",
    "            \n",
    "    def __init(self,*args, **kwargs):\n",
    "        pass\n",
    "    def abc(self):\n",
    "        return 'abc'\n",
    "            \n",
    "rs = Resource()\n",
    "print(rs.abc())       "
   ]
  },
  {
   "cell_type": "code",
   "execution_count": 57,
   "id": "36606fce-1044-47b9-b81e-24bc9eec8d58",
   "metadata": {},
   "outputs": [
    {
     "name": "stdout",
     "output_type": "stream",
     "text": [
      "calling init\n",
      "calling init\n"
     ]
    },
    {
     "data": {
      "text/plain": [
       "True"
      ]
     },
     "execution_count": 57,
     "metadata": {},
     "output_type": "execute_result"
    }
   ],
   "source": [
    "# __new__ must call and singleton example\n",
    "\n",
    "\n",
    "class Resource: \n",
    "    __instance = None\n",
    "    __initialised = False\n",
    "\n",
    "    def __new__(cls,*args, **kwargs):\n",
    "        if Resource.__instance == None:\n",
    "            \n",
    "            cls.__instance = super().__new__(cls)\n",
    "        return Resource.__instance\n",
    "                 \n",
    "    def __init__(self,*args, **kwargs):\n",
    "        if Resource.__initialised :\n",
    "            print(\"Resource already initialised\")\n",
    "            return\n",
    "        print(\"calling init\")\n",
    "        Resource.__initialised = True\n",
    "        \n",
    "    def abc(self):\n",
    "        print(\"calling abc\")\n",
    "\n",
    "        return 'abc'\n",
    "            \n",
    "r1 = Resource(1) \n",
    "r2 = Resource(2)\n",
    "r1 == r2\n",
    "   "
   ]
  },
  {
   "cell_type": "markdown",
   "id": "e9388959-9139-4add-9c6a-8fe83010a8aa",
   "metadata": {},
   "source": [
    "In the provided code, the __init__ method is called twice because even though __new__ is designed to enforce a singleton pattern by returning the same instance (cls.__instance) for both r1 and r2, Python still calls __init__ every time an instance is attempted to be created. The __init__ is invoked regardless of whether __new__ returns a newly created instance or an existing one. Each call to Resource(1) and Resource(2) triggers __init__, leading to the \"calling init\" message being printed twice.\n",
    "\n",
    "# __new__ Method:\n",
    "\n",
    "1. This is a static method, unlike __init__, which is an instance method.\n",
    "2. __new__ is responsible for actually creating a new instance of a class. It does this by allocating memory for the new object.\n",
    "3. It is the first step in the instance creation process and is called before __init__.\n",
    "4. It takes the class (cls) as its first argument, followed by any parameters that are passed through the class constructor.\n",
    "5. It must return an instance of the class (or another class) for __init__ to be called on that instance. If it doesn't return an instance, __init__ won't be invoked.\n",
    "6. __new__ is typically overridden in cases where immutable types or singletons are being created, or when subclassing immutable built-in types like tuples.\n",
    "\n",
    "# __init__ Method:\n",
    "\n",
    "1. This method is called after the new instance has been created and memory allocated by __new__.\n",
    "2. __init__ is responsible for initializing the instance after it's been created. This typically involves setting up the initial state of the object, initializing attributes, and performing the first setup tasks.\n",
    "3. Unlike __new__, __init__ does not return anything; it modifies the state of the object.\n",
    "4. This method takes self (the instance to initialize) as its first argument, followed by any arguments passed to the class constructor.\n"
   ]
  },
  {
   "cell_type": "code",
   "execution_count": 93,
   "id": "5e470646-f4e9-4b8c-b876-78d753046ca7",
   "metadata": {},
   "outputs": [],
   "source": []
  },
  {
   "cell_type": "code",
   "execution_count": null,
   "id": "2cea715e-f4cf-47d3-b892-96b9317e2837",
   "metadata": {},
   "outputs": [],
   "source": []
  }
 ],
 "metadata": {
  "kernelspec": {
   "display_name": "Python 3 (ipykernel)",
   "language": "python",
   "name": "python3"
  },
  "language_info": {
   "codemirror_mode": {
    "name": "ipython",
    "version": 3
   },
   "file_extension": ".py",
   "mimetype": "text/x-python",
   "name": "python",
   "nbconvert_exporter": "python",
   "pygments_lexer": "ipython3",
   "version": "3.13.0"
  }
 },
 "nbformat": 4,
 "nbformat_minor": 5
}
