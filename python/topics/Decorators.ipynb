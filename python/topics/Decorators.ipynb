{
 "cells": [
  {
   "cell_type": "markdown",
   "id": "82cdf80b-2f85-4c5e-b907-c5e2d0846b2a",
   "metadata": {},
   "source": [
    " # Python Decorator Basic Structure"
   ]
  },
  {
   "cell_type": "code",
   "execution_count": 41,
   "id": "b7eb0484-a627-44e5-a05b-9f457dbae935",
   "metadata": {},
   "outputs": [
    {
     "name": "stdout",
     "output_type": "stream",
     "text": [
      "Something before\n",
      "1 3 {'x': 2}\n",
      "something after\n"
     ]
    },
    {
     "data": {
      "text/plain": [
       "1"
      ]
     },
     "execution_count": 41,
     "metadata": {},
     "output_type": "execute_result"
    }
   ],
   "source": [
    "from functools import wraps\n",
    "\n",
    "def my_decorator(func):\n",
    "    @wraps(func)\n",
    "    def wrapper(*args,**kwargs):\n",
    "        print(\"Something before\")\n",
    "        result = func(*args, **kwargs)\n",
    "        print(\"something after\")\n",
    "        return result\n",
    "    return wrapper\n",
    "\n",
    "@my_decorator\n",
    "def my_function(*args,**kwargs):\n",
    "    print(*args,{**kwargs} )\n",
    "    return 1\n",
    "\n",
    "my_function(1,3,x=2)"
   ]
  },
  {
   "cell_type": "raw",
   "id": "c7bceadd-6367-4ac7-9ae6-50c7e2b8ee0f",
   "metadata": {},
   "source": [
    "## py"
   ]
  },
  {
   "cell_type": "code",
   "execution_count": 40,
   "id": "6e024946-3780-4a3b-a9be-60e8276f86ce",
   "metadata": {},
   "outputs": [
    {
     "name": "stdout",
     "output_type": "stream",
     "text": [
      "Setting up new instance\n",
      "inside  ClassWrapper init\n",
      "connected to abc\n"
     ]
    },
    {
     "data": {
      "text/plain": [
       "True"
      ]
     },
     "execution_count": 40,
     "metadata": {},
     "output_type": "execute_result"
    }
   ],
   "source": [
    "\n",
    "def print_connection(cls):\n",
    "\n",
    "    class ClassWrapper(cls):\n",
    "        def __init__(cls):\n",
    "            print(\"inside  ClassWrapper init\")\n",
    "\n",
    "        def print_connection(self):\n",
    "            print(\"connected to abc\")\n",
    "\n",
    "    return ClassWrapper\n",
    "\n",
    "def singleton(cls):\n",
    "    instances = {}\n",
    "    def get_instance(*args, **kwargs):\n",
    "        if cls in instances:\n",
    "            return instances[cls]\n",
    "        print(\"Setting up new instance\")\n",
    "        instances[cls] = cls(*args, **kwargs)\n",
    "        return instances[cls]\n",
    "    return get_instance\n",
    "\n",
    "@singleton\n",
    "@print_connection\n",
    "class DatabaseManager:\n",
    "    def __init__(self):\n",
    "        print(\"inside DatabaseManager init\")\n",
    "        self.connection = \"Connect to connection\"\n",
    "\n",
    "    def get(self):\n",
    "        return \"\"\n",
    "\n",
    "    def delete(self):\n",
    "        return \"\"\n",
    "\n",
    "dbm = DatabaseManager()\n",
    "dbm2 = DatabaseManager()\n",
    "dbm.print_connection()\n",
    "\n",
    "dbm == dbm2\n"
   ]
  },
  {
   "cell_type": "markdown",
   "id": "162127c6-a329-43ca-8bb4-9df2982799af",
   "metadata": {},
   "source": [
    "## Closure: the reason why instances  \n",
    "1. Nested Function: A closure involves at least two functions—a parent (or outer) function and a child (or inner) function. The inner function is defined inside the scope of the outer function.\n",
    "2. State Preservation: The inner function retains a reference to variables from the outer function that are used within the inner function. These variables are called \"free variables.\"\n",
    "3. The Inner Function: This must be returned from the outer function. It's this returned function that is called a closure.\n"
   ]
  },
  {
   "cell_type": "code",
   "execution_count": null,
   "id": "bbc480a7-f005-430a-8431-d17dc5017f0e",
   "metadata": {},
   "outputs": [],
   "source": []
  }
 ],
 "metadata": {
  "kernelspec": {
   "display_name": "Python 3 (ipykernel)",
   "language": "python",
   "name": "python3"
  },
  "language_info": {
   "codemirror_mode": {
    "name": "ipython",
    "version": 3
   },
   "file_extension": ".py",
   "mimetype": "text/x-python",
   "name": "python",
   "nbconvert_exporter": "python",
   "pygments_lexer": "ipython3",
   "version": "3.13.0"
  }
 },
 "nbformat": 4,
 "nbformat_minor": 5
}
